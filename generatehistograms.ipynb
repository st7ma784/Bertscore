{
 "cells": [
  {
   "cell_type": "code",
   "execution_count": 54,
   "metadata": {},
   "outputs": [
    {
     "name": "stdout",
     "output_type": "stream",
     "text": [
      "Grabbing data:\n"
     ]
    },
    {
     "name": "stderr",
     "output_type": "stream",
     "text": [
      "  5%|▌         | 6/116 [00:00<00:06, 17.06it/s]"
     ]
    },
    {
     "name": "stdout",
     "output_type": "stream",
     "text": [
      "{'dir': '/data', 'log_path': '/nobackup/projects/bdlan05/$USER/logs/', 'modelname': 'distilbert-base-uncased', 'LSAVersion': 'recursive fn5', 'all_layers': False, 'batch_size': 180, 'num_trials': -1, 'accelerator': 'auto', 'perfect_match': True, 'hpc_exp_number': None, 'padding_length': 128}\n",
      "recursive fn5_distilbert-base-uncased\n"
     ]
    },
    {
     "name": "stderr",
     "output_type": "stream",
     "text": [
      "  7%|▋         | 8/116 [00:00<00:10, 10.77it/s]"
     ]
    },
    {
     "name": "stdout",
     "output_type": "stream",
     "text": [
      "{'dir': '/data', 'trials': 'test_tube.argparse_hopt.HyperOptArgumentParser.opt_trials', 'log_path': '/nobackup/projects/bdlan05/$USER/logs/', 'modelname': 'bert-base-uncased', 'LSAVersion': 'none', 'all_layers': False, 'batch_size': 180, 'num_trials': 0, 'accelerator': 'auto', 'perfect_match': False, 'hpc_exp_number': None, 'padding_length': 128, 'generate_trials': 'test_tube.argparse_hopt.HyperOptArgumentParser.generate_trials', 'optimize_parallel': 'test_tube.argparse_hopt.HyperOptArgumentParser.optimize_parallel', 'optimize_parallel_cpu': 'test_tube.argparse_hopt.HyperOptArgumentParser.optimize_parallel_cpu', 'optimize_parallel_gpu': 'test_tube.argparse_hopt.HyperOptArgumentParser.optimize_parallel_gpu', 'optimize_trials_parallel_gpu': 'test_tube.argparse_hopt.HyperOptArgumentParser.optimize_trials_parallel_gpu'}\n",
      "none_bert-base-uncased\n"
     ]
    },
    {
     "name": "stderr",
     "output_type": "stream",
     "text": [
      "  9%|▊         | 10/116 [00:01<00:15,  6.98it/s]"
     ]
    },
    {
     "name": "stdout",
     "output_type": "stream",
     "text": [
      "{'dir': '/data', 'log_path': '/nobackup/projects/bdlan05/$USER/logs/', 'modelname': 'bert-base-uncased', 'LSAVersion': 'none', 'all_layers': False, 'batch_size': 180, 'num_trials': -1, 'accelerator': 'auto', 'perfect_match': True, 'hpc_exp_number': None, 'padding_length': 128}\n",
      "none_bert-base-uncased\n"
     ]
    },
    {
     "name": "stderr",
     "output_type": "stream",
     "text": [
      "  9%|▉         | 11/116 [00:01<00:22,  4.70it/s]"
     ]
    },
    {
     "name": "stdout",
     "output_type": "stream",
     "text": [
      "{'dir': '/datasets3', 'log_path': '/nobackup/projects/bdlan05/$USER/logs/', 'modelname': 'xlm-roberta-base', 'LSAVersion': 'recursive fn5', 'all_layers': False, 'batch_size': 180, 'num_trials': -1, 'accelerator': 'auto', 'perfect_match': False, 'hpc_exp_number': None, 'padding_length': 384}\n",
      "recursive fn5_xlm-roberta-base\n"
     ]
    },
    {
     "name": "stderr",
     "output_type": "stream",
     "text": [
      " 10%|█         | 12/116 [00:02<00:25,  4.09it/s]"
     ]
    },
    {
     "name": "stdout",
     "output_type": "stream",
     "text": [
      "{'dir': '/data', 'log_path': '/nobackup/projects/bdlan05/$USER/logs/', 'modelname': 'distilbert-base-uncased', 'LSAVersion': 'recursive fn', 'all_layers': False, 'batch_size': 180, 'num_trials': -1, 'accelerator': 'auto', 'perfect_match': False, 'hpc_exp_number': None, 'padding_length': 384}\n",
      "recursive fn_distilbert-base-uncased\n"
     ]
    },
    {
     "name": "stderr",
     "output_type": "stream",
     "text": [
      " 12%|█▏        | 14/116 [00:02<00:22,  4.47it/s]"
     ]
    },
    {
     "name": "stdout",
     "output_type": "stream",
     "text": [
      "{'dir': '/datasets3', 'log_path': '/nobackup/projects/bdlan05/$USER/logs/', 'modelname': 'roberta-base', 'LSAVersion': 'none', 'all_layers': False, 'batch_size': 180, 'num_trials': -1, 'accelerator': 'auto', 'perfect_match': False, 'hpc_exp_number': None, 'padding_length': 128}\n",
      "none_roberta-base\n"
     ]
    },
    {
     "name": "stderr",
     "output_type": "stream",
     "text": [
      " 13%|█▎        | 15/116 [00:02<00:25,  4.03it/s]"
     ]
    },
    {
     "name": "stdout",
     "output_type": "stream",
     "text": [
      "{'dir': '/data', 'log_path': '/nobackup/projects/bdlan05/$USER/logs/', 'modelname': 'bert-base-uncased', 'LSAVersion': 'none', 'all_layers': False, 'batch_size': 180, 'num_trials': -1, 'accelerator': 'auto', 'perfect_match': True, 'hpc_exp_number': None, 'padding_length': 128}\n",
      "none_bert-base-uncased\n"
     ]
    },
    {
     "name": "stderr",
     "output_type": "stream",
     "text": [
      " 14%|█▍        | 16/116 [00:03<00:30,  3.26it/s]"
     ]
    },
    {
     "name": "stdout",
     "output_type": "stream",
     "text": [
      "{'dir': '/datasets2', 'log_path': '/nobackup/projects/bdlan05/$USER/logs/', 'modelname': 'xlm-roberta-base', 'LSAVersion': 'recursive fn', 'all_layers': False, 'batch_size': 180, 'num_trials': -1, 'accelerator': 'auto', 'perfect_match': True, 'hpc_exp_number': None, 'padding_length': 128}\n",
      "recursive fn_xlm-roberta-base\n"
     ]
    },
    {
     "name": "stderr",
     "output_type": "stream",
     "text": [
      " 16%|█▋        | 19/116 [00:03<00:22,  4.39it/s]"
     ]
    },
    {
     "name": "stdout",
     "output_type": "stream",
     "text": [
      "{'dir': '/data', 'log_path': '/nobackup/projects/bdlan05/$USER/logs/', 'modelname': 'bert-base-uncased', 'LSAVersion': 'recursive fn5', 'all_layers': False, 'batch_size': 180, 'num_trials': -1, 'accelerator': 'auto', 'perfect_match': False, 'hpc_exp_number': None, 'padding_length': 128}\n",
      "recursive fn5_bert-base-uncased\n"
     ]
    },
    {
     "name": "stderr",
     "output_type": "stream",
     "text": [
      " 17%|█▋        | 20/116 [00:04<00:26,  3.68it/s]"
     ]
    },
    {
     "name": "stdout",
     "output_type": "stream",
     "text": [
      "{'dir': '/data', 'trials': 'test_tube.argparse_hopt.HyperOptArgumentParser.opt_trials', 'log_path': '/nobackup/projects/bdlan05/$USER/logs/', 'modelname': 'bert-base-uncased', 'LSAVersion': 'none', 'all_layers': False, 'batch_size': 180, 'num_trials': 0, 'accelerator': 'auto', 'perfect_match': False, 'hpc_exp_number': None, 'padding_length': 128, 'generate_trials': 'test_tube.argparse_hopt.HyperOptArgumentParser.generate_trials', 'optimize_parallel': 'test_tube.argparse_hopt.HyperOptArgumentParser.optimize_parallel', 'optimize_parallel_cpu': 'test_tube.argparse_hopt.HyperOptArgumentParser.optimize_parallel_cpu', 'optimize_parallel_gpu': 'test_tube.argparse_hopt.HyperOptArgumentParser.optimize_parallel_gpu', 'optimize_trials_parallel_gpu': 'test_tube.argparse_hopt.HyperOptArgumentParser.optimize_trials_parallel_gpu'}\n",
      "none_bert-base-uncased\n"
     ]
    },
    {
     "name": "stderr",
     "output_type": "stream",
     "text": [
      " 18%|█▊        | 21/116 [00:04<00:28,  3.33it/s]"
     ]
    },
    {
     "name": "stdout",
     "output_type": "stream",
     "text": [
      "{'dir': '/data', 'log_path': '/nobackup/projects/bdlan05/$USER/logs/', 'modelname': 'distilbert-base-uncased', 'LSAVersion': 'none', 'all_layers': False, 'batch_size': 180, 'num_trials': -1, 'accelerator': 'auto', 'perfect_match': True, 'hpc_exp_number': None, 'padding_length': 384}\n",
      "none_distilbert-base-uncased\n"
     ]
    },
    {
     "name": "stderr",
     "output_type": "stream",
     "text": [
      " 20%|█▉        | 23/116 [00:05<00:24,  3.78it/s]"
     ]
    },
    {
     "name": "stdout",
     "output_type": "stream",
     "text": [
      "{'dir': '/datasets3', 'log_path': '/nobackup/projects/bdlan05/$USER/logs/', 'modelname': 'facebook/bart-base', 'LSAVersion': 'recursive fn5', 'all_layers': False, 'batch_size': 180, 'num_trials': -1, 'accelerator': 'auto', 'perfect_match': True, 'hpc_exp_number': None, 'padding_length': 384}\n",
      "recursive fn5_facebook/bart-base\n"
     ]
    },
    {
     "name": "stderr",
     "output_type": "stream",
     "text": [
      " 21%|██        | 24/116 [00:05<00:27,  3.36it/s]"
     ]
    },
    {
     "name": "stdout",
     "output_type": "stream",
     "text": [
      "{'dir': '/data', 'log_path': '/nobackup/projects/bdlan05/$USER/logs/', 'modelname': 'xlm-roberta-base', 'LSAVersion': 'recursive fn', 'all_layers': False, 'batch_size': 180, 'num_trials': -1, 'accelerator': 'auto', 'perfect_match': False, 'hpc_exp_number': None, 'padding_length': 384}\n",
      "recursive fn_xlm-roberta-base\n"
     ]
    },
    {
     "name": "stderr",
     "output_type": "stream",
     "text": [
      " 22%|██▏       | 25/116 [00:05<00:28,  3.18it/s]"
     ]
    },
    {
     "name": "stdout",
     "output_type": "stream",
     "text": [
      "{'dir': '/datasets2', 'log_path': '/nobackup/projects/bdlan05/$USER/logs/', 'modelname': 'albert-base-v2', 'LSAVersion': 'my function', 'all_layers': False, 'batch_size': 180, 'num_trials': -1, 'accelerator': 'auto', 'perfect_match': True, 'hpc_exp_number': None, 'padding_length': 384}\n",
      "my function_albert-base-v2\n"
     ]
    },
    {
     "name": "stderr",
     "output_type": "stream",
     "text": [
      " 22%|██▏       | 26/116 [00:06<00:31,  2.85it/s]"
     ]
    },
    {
     "name": "stdout",
     "output_type": "stream",
     "text": [
      "{'dir': '/datasets2', 'log_path': '/nobackup/projects/bdlan05/$USER/logs/', 'modelname': 'xlm-roberta-base', 'LSAVersion': 'recursive fn5', 'all_layers': False, 'batch_size': 180, 'num_trials': -1, 'accelerator': 'auto', 'perfect_match': False, 'hpc_exp_number': None, 'padding_length': 384}\n",
      "recursive fn5_xlm-roberta-base\n"
     ]
    },
    {
     "name": "stderr",
     "output_type": "stream",
     "text": [
      " 23%|██▎       | 27/116 [00:06<00:31,  2.84it/s]"
     ]
    },
    {
     "name": "stdout",
     "output_type": "stream",
     "text": [
      "{'dir': '/data', 'trials': 'test_tube.argparse_hopt.HyperOptArgumentParser.opt_trials', 'log_path': '/nobackup/projects/bdlan05/$USER/logs/', 'modelname': 'bert-base-uncased', 'LSAVersion': 'none', 'all_layers': False, 'batch_size': 180, 'num_trials': 0, 'accelerator': 'auto', 'perfect_match': False, 'hpc_exp_number': None, 'padding_length': 128, 'generate_trials': 'test_tube.argparse_hopt.HyperOptArgumentParser.generate_trials', 'optimize_parallel': 'test_tube.argparse_hopt.HyperOptArgumentParser.optimize_parallel', 'optimize_parallel_cpu': 'test_tube.argparse_hopt.HyperOptArgumentParser.optimize_parallel_cpu', 'optimize_parallel_gpu': 'test_tube.argparse_hopt.HyperOptArgumentParser.optimize_parallel_gpu', 'optimize_trials_parallel_gpu': 'test_tube.argparse_hopt.HyperOptArgumentParser.optimize_trials_parallel_gpu'}\n",
      "none_bert-base-uncased\n"
     ]
    },
    {
     "name": "stderr",
     "output_type": "stream",
     "text": [
      " 24%|██▍       | 28/116 [00:07<00:34,  2.58it/s]"
     ]
    },
    {
     "name": "stdout",
     "output_type": "stream",
     "text": [
      "{'dir': '/data', 'log_path': '/nobackup/projects/bdlan05/$USER/logs/', 'modelname': 'facebook/bart-base', 'LSAVersion': 'none', 'all_layers': True, 'batch_size': 180, 'num_trials': -1, 'accelerator': 'auto', 'perfect_match': True, 'hpc_exp_number': None, 'padding_length': 128}\n",
      "none_facebook/bart-base\n"
     ]
    },
    {
     "name": "stderr",
     "output_type": "stream",
     "text": [
      " 25%|██▌       | 29/116 [00:07<00:36,  2.41it/s]"
     ]
    },
    {
     "name": "stdout",
     "output_type": "stream",
     "text": [
      "{'dir': '/data', 'log_path': '/nobackup/projects/bdlan05/$USER/logs/', 'modelname': 'facebook/bart-base', 'LSAVersion': 'none', 'all_layers': False, 'batch_size': 180, 'num_trials': -1, 'accelerator': 'auto', 'perfect_match': True, 'hpc_exp_number': None, 'padding_length': 384}\n",
      "none_facebook/bart-base\n"
     ]
    },
    {
     "name": "stderr",
     "output_type": "stream",
     "text": [
      " 27%|██▋       | 31/116 [00:08<00:28,  2.99it/s]"
     ]
    },
    {
     "name": "stdout",
     "output_type": "stream",
     "text": [
      "{'dir': '/data', 'log_path': '/nobackup/projects/bdlan05/$USER/logs/', 'modelname': 'xlm-roberta-base', 'LSAVersion': 'stock', 'all_layers': False, 'batch_size': 180, 'num_trials': -1, 'accelerator': 'auto', 'perfect_match': False, 'hpc_exp_number': None, 'padding_length': 128}\n",
      "stock_xlm-roberta-base\n"
     ]
    },
    {
     "name": "stderr",
     "output_type": "stream",
     "text": [
      " 28%|██▊       | 33/116 [00:08<00:23,  3.59it/s]"
     ]
    },
    {
     "name": "stdout",
     "output_type": "stream",
     "text": [
      "{'dir': '/data', 'log_path': '/nobackup/projects/bdlan05/$USER/logs/', 'modelname': 'facebook/bart-base', 'LSAVersion': 'recursive fn2 ', 'all_layers': False, 'batch_size': 180, 'num_trials': -1, 'accelerator': 'auto', 'perfect_match': True, 'hpc_exp_number': None, 'padding_length': 384}\n",
      "recursive fn2 _facebook/bart-base\n"
     ]
    },
    {
     "name": "stderr",
     "output_type": "stream",
     "text": [
      " 29%|██▉       | 34/116 [00:08<00:25,  3.27it/s]"
     ]
    },
    {
     "name": "stdout",
     "output_type": "stream",
     "text": [
      "{'dir': '/data', 'log_path': '/nobackup/projects/bdlan05/$USER/logs/', 'modelname': 'roberta-base', 'LSAVersion': 'stock', 'all_layers': False, 'batch_size': 180, 'num_trials': -1, 'accelerator': 'auto', 'perfect_match': False, 'hpc_exp_number': None, 'padding_length': 384}\n",
      "stock_roberta-base\n"
     ]
    },
    {
     "name": "stderr",
     "output_type": "stream",
     "text": [
      " 31%|███       | 36/116 [00:09<00:20,  3.84it/s]"
     ]
    },
    {
     "name": "stdout",
     "output_type": "stream",
     "text": [
      "{'dir': '/data', 'log_path': '/nobackup/projects/bdlan05/$USER/logs/', 'modelname': 'facebook/bart-base', 'LSAVersion': 'recursive fn2 ', 'all_layers': False, 'batch_size': 180, 'num_trials': -1, 'accelerator': 'auto', 'perfect_match': True, 'hpc_exp_number': None, 'padding_length': 128}\n",
      "recursive fn2 _facebook/bart-base\n"
     ]
    },
    {
     "name": "stderr",
     "output_type": "stream",
     "text": [
      " 32%|███▏      | 37/116 [00:09<00:23,  3.34it/s]"
     ]
    },
    {
     "name": "stdout",
     "output_type": "stream",
     "text": [
      "{'dir': '/data', 'log_path': '/nobackup/projects/bdlan05/$USER/logs/', 'modelname': 'roberta-base', 'LSAVersion': 'stock', 'all_layers': False, 'batch_size': 180, 'num_trials': -1, 'accelerator': 'auto', 'perfect_match': True, 'hpc_exp_number': None, 'padding_length': 128}\n",
      "stock_roberta-base\n"
     ]
    },
    {
     "name": "stderr",
     "output_type": "stream",
     "text": [
      " 33%|███▎      | 38/116 [00:10<00:24,  3.21it/s]"
     ]
    },
    {
     "name": "stdout",
     "output_type": "stream",
     "text": [
      "{'dir': '/data', 'log_path': '/nobackup/projects/bdlan05/$USER/logs/', 'modelname': 'xlm-roberta-base', 'LSAVersion': 'recursive fn5', 'all_layers': False, 'batch_size': 180, 'num_trials': -1, 'accelerator': 'auto', 'perfect_match': True, 'hpc_exp_number': None, 'padding_length': 128}\n",
      "recursive fn5_xlm-roberta-base\n"
     ]
    },
    {
     "name": "stderr",
     "output_type": "stream",
     "text": [
      " 34%|███▎      | 39/116 [00:10<00:25,  3.02it/s]"
     ]
    },
    {
     "name": "stdout",
     "output_type": "stream",
     "text": [
      "{'dir': '/data', 'log_path': '/nobackup/projects/bdlan05/$USER/logs/', 'modelname': 'roberta-base', 'LSAVersion': 'stock', 'all_layers': False, 'batch_size': 180, 'num_trials': -1, 'accelerator': 'auto', 'perfect_match': True, 'hpc_exp_number': None, 'padding_length': 128}\n",
      "stock_roberta-base\n"
     ]
    },
    {
     "name": "stderr",
     "output_type": "stream",
     "text": [
      " 35%|███▌      | 41/116 [00:10<00:20,  3.73it/s]"
     ]
    },
    {
     "name": "stdout",
     "output_type": "stream",
     "text": [
      "{'dir': '/datasets2', 'log_path': '/nobackup/projects/bdlan05/$USER/logs/', 'modelname': 'albert-base-v2', 'LSAVersion': 'recursive fn', 'all_layers': False, 'batch_size': 180, 'num_trials': -1, 'accelerator': 'auto', 'perfect_match': False, 'hpc_exp_number': None, 'padding_length': 128}\n",
      "recursive fn_albert-base-v2\n"
     ]
    },
    {
     "name": "stderr",
     "output_type": "stream",
     "text": [
      " 36%|███▌      | 42/116 [00:11<00:23,  3.12it/s]"
     ]
    },
    {
     "name": "stdout",
     "output_type": "stream",
     "text": [
      "{'dir': '/data', 'log_path': '/nobackup/projects/bdlan05/$USER/logs/', 'modelname': 'facebook/bart-base', 'LSAVersion': 'recursive fn', 'all_layers': False, 'batch_size': 180, 'num_trials': -1, 'accelerator': 'auto', 'perfect_match': True, 'hpc_exp_number': None, 'padding_length': 128}\n",
      "recursive fn_facebook/bart-base\n"
     ]
    },
    {
     "name": "stderr",
     "output_type": "stream",
     "text": [
      " 37%|███▋      | 43/116 [00:11<00:25,  2.88it/s]"
     ]
    },
    {
     "name": "stdout",
     "output_type": "stream",
     "text": [
      "{'dir': '/data', 'trials': 'test_tube.argparse_hopt.HyperOptArgumentParser.opt_trials', 'log_path': '/nobackup/projects/bdlan05/$USER/logs/', 'modelname': 'bert-base-uncased', 'LSAVersion': 'none', 'all_layers': False, 'batch_size': 180, 'num_trials': 0, 'accelerator': 'auto', 'perfect_match': False, 'hpc_exp_number': None, 'padding_length': 128, 'generate_trials': 'test_tube.argparse_hopt.HyperOptArgumentParser.generate_trials', 'optimize_parallel': 'test_tube.argparse_hopt.HyperOptArgumentParser.optimize_parallel', 'optimize_parallel_cpu': 'test_tube.argparse_hopt.HyperOptArgumentParser.optimize_parallel_cpu', 'optimize_parallel_gpu': 'test_tube.argparse_hopt.HyperOptArgumentParser.optimize_parallel_gpu', 'optimize_trials_parallel_gpu': 'test_tube.argparse_hopt.HyperOptArgumentParser.optimize_trials_parallel_gpu'}\n",
      "none_bert-base-uncased\n"
     ]
    },
    {
     "name": "stderr",
     "output_type": "stream",
     "text": [
      " 38%|███▊      | 44/116 [00:12<00:25,  2.86it/s]"
     ]
    },
    {
     "name": "stdout",
     "output_type": "stream",
     "text": [
      "{'dir': '/data', 'log_path': '/nobackup/projects/bdlan05/$USER/logs/', 'modelname': 'distilbert-base-uncased', 'LSAVersion': 'recursive fn2 ', 'all_layers': False, 'batch_size': 180, 'num_trials': -1, 'accelerator': 'auto', 'perfect_match': True, 'hpc_exp_number': None, 'padding_length': 128}\n",
      "recursive fn2 _distilbert-base-uncased\n"
     ]
    },
    {
     "name": "stderr",
     "output_type": "stream",
     "text": [
      " 39%|███▉      | 45/116 [00:12<00:25,  2.76it/s]"
     ]
    },
    {
     "name": "stdout",
     "output_type": "stream",
     "text": [
      "{'dir': '/data', 'log_path': '/nobackup/projects/bdlan05/$USER/logs/', 'modelname': 'facebook/bart-base', 'LSAVersion': 'recursive fn5', 'all_layers': True, 'batch_size': 180, 'num_trials': -1, 'accelerator': 'auto', 'perfect_match': True, 'hpc_exp_number': None, 'padding_length': 128}\n",
      "recursive fn5_facebook/bart-base\n"
     ]
    },
    {
     "name": "stderr",
     "output_type": "stream",
     "text": [
      " 41%|████      | 47/116 [00:12<00:20,  3.33it/s]"
     ]
    },
    {
     "name": "stdout",
     "output_type": "stream",
     "text": [
      "{'dir': '/data', 'log_path': '/nobackup/projects/bdlan05/$USER/logs/', 'modelname': 'facebook/bart-base', 'LSAVersion': 'stock', 'all_layers': False, 'batch_size': 180, 'num_trials': -1, 'accelerator': 'auto', 'perfect_match': True, 'hpc_exp_number': None, 'padding_length': 128}\n",
      "stock_facebook/bart-base\n"
     ]
    },
    {
     "name": "stderr",
     "output_type": "stream",
     "text": [
      " 41%|████▏     | 48/116 [00:13<00:22,  3.05it/s]"
     ]
    },
    {
     "name": "stdout",
     "output_type": "stream",
     "text": [
      "{'dir': '/data', 'log_path': '/nobackup/projects/bdlan05/$USER/logs/', 'modelname': 'distilbert-base-uncased', 'LSAVersion': 'my function', 'all_layers': False, 'batch_size': 180, 'num_trials': -1, 'accelerator': 'auto', 'perfect_match': True, 'hpc_exp_number': None, 'padding_length': 128}\n",
      "my function_distilbert-base-uncased\n"
     ]
    },
    {
     "name": "stderr",
     "output_type": "stream",
     "text": [
      " 42%|████▏     | 49/116 [00:13<00:23,  2.83it/s]"
     ]
    },
    {
     "name": "stdout",
     "output_type": "stream",
     "text": [
      "{'dir': '/data', 'log_path': '/nobackup/projects/bdlan05/$USER/logs/', 'modelname': 'xlm-roberta-base', 'LSAVersion': 'recursive fn5', 'all_layers': False, 'batch_size': 180, 'num_trials': -1, 'accelerator': 'auto', 'perfect_match': True, 'hpc_exp_number': None, 'padding_length': 128}\n",
      "recursive fn5_xlm-roberta-base\n"
     ]
    },
    {
     "name": "stderr",
     "output_type": "stream",
     "text": [
      " 43%|████▎     | 50/116 [00:14<00:23,  2.78it/s]"
     ]
    },
    {
     "name": "stdout",
     "output_type": "stream",
     "text": [
      "{'dir': '/data', 'log_path': '/nobackup/projects/bdlan05/$USER/logs/', 'modelname': 'distilbert-base-uncased', 'LSAVersion': 'none', 'all_layers': False, 'batch_size': 180, 'num_trials': -1, 'accelerator': 'auto', 'perfect_match': False, 'hpc_exp_number': None, 'padding_length': 384}\n",
      "none_distilbert-base-uncased\n"
     ]
    },
    {
     "name": "stderr",
     "output_type": "stream",
     "text": [
      " 44%|████▍     | 51/116 [00:15<00:36,  1.77it/s]"
     ]
    },
    {
     "name": "stdout",
     "output_type": "stream",
     "text": [
      "{'dir': '/datasets2', 'log_path': '/nobackup/projects/bdlan05/$USER/logs/', 'modelname': 'xlm-roberta-base', 'LSAVersion': 'recursive fn5', 'all_layers': False, 'batch_size': 180, 'num_trials': -1, 'accelerator': 'auto', 'perfect_match': True, 'hpc_exp_number': None, 'padding_length': 384}\n",
      "recursive fn5_xlm-roberta-base\n"
     ]
    },
    {
     "name": "stderr",
     "output_type": "stream",
     "text": [
      " 45%|████▍     | 52/116 [00:15<00:37,  1.72it/s]"
     ]
    },
    {
     "name": "stdout",
     "output_type": "stream",
     "text": [
      "{'dir': '/datasets2', 'log_path': '/nobackup/projects/bdlan05/$USER/logs/', 'modelname': 'albert-base-v2', 'LSAVersion': 'stock', 'all_layers': False, 'batch_size': 180, 'num_trials': -1, 'accelerator': 'auto', 'perfect_match': True, 'hpc_exp_number': None, 'padding_length': 128}\n",
      "stock_albert-base-v2\n"
     ]
    },
    {
     "name": "stderr",
     "output_type": "stream",
     "text": [
      " 46%|████▌     | 53/116 [00:16<00:33,  1.85it/s]"
     ]
    },
    {
     "name": "stdout",
     "output_type": "stream",
     "text": [
      "{'dir': '/data', 'trials': 'test_tube.argparse_hopt.HyperOptArgumentParser.opt_trials', 'log_path': '/nobackup/projects/bdlan05/$USER/logs/', 'modelname': 'bert-base-uncased', 'LSAVersion': 'none', 'all_layers': False, 'batch_size': 180, 'num_trials': 0, 'accelerator': 'auto', 'perfect_match': False, 'hpc_exp_number': None, 'padding_length': 128, 'generate_trials': 'test_tube.argparse_hopt.HyperOptArgumentParser.generate_trials', 'optimize_parallel': 'test_tube.argparse_hopt.HyperOptArgumentParser.optimize_parallel', 'optimize_parallel_cpu': 'test_tube.argparse_hopt.HyperOptArgumentParser.optimize_parallel_cpu', 'optimize_parallel_gpu': 'test_tube.argparse_hopt.HyperOptArgumentParser.optimize_parallel_gpu', 'optimize_trials_parallel_gpu': 'test_tube.argparse_hopt.HyperOptArgumentParser.optimize_trials_parallel_gpu'}\n",
      "none_bert-base-uncased\n"
     ]
    },
    {
     "name": "stderr",
     "output_type": "stream",
     "text": [
      " 47%|████▋     | 54/116 [00:16<00:30,  2.02it/s]"
     ]
    },
    {
     "name": "stdout",
     "output_type": "stream",
     "text": [
      "{'dir': '/data', 'log_path': '/nobackup/projects/bdlan05/$USER/logs/', 'modelname': 'roberta-base', 'LSAVersion': 'recursive fn', 'all_layers': False, 'batch_size': 180, 'num_trials': -1, 'accelerator': 'auto', 'perfect_match': False, 'hpc_exp_number': None, 'padding_length': 384}\n",
      "recursive fn_roberta-base\n"
     ]
    },
    {
     "name": "stderr",
     "output_type": "stream",
     "text": [
      " 48%|████▊     | 56/116 [00:17<00:21,  2.79it/s]"
     ]
    },
    {
     "name": "stdout",
     "output_type": "stream",
     "text": [
      "{'dir': '/data', 'log_path': '/nobackup/projects/bdlan05/$USER/logs/', 'modelname': 'albert-base-v2', 'LSAVersion': 'stock', 'all_layers': False, 'batch_size': 180, 'num_trials': -1, 'accelerator': 'auto', 'perfect_match': False, 'hpc_exp_number': None, 'padding_length': 384}\n",
      "stock_albert-base-v2\n"
     ]
    },
    {
     "name": "stderr",
     "output_type": "stream",
     "text": [
      " 49%|████▉     | 57/116 [00:17<00:21,  2.73it/s]"
     ]
    },
    {
     "name": "stdout",
     "output_type": "stream",
     "text": [
      "{'dir': '/data', 'trials': 'test_tube.argparse_hopt.HyperOptArgumentParser.opt_trials', 'log_path': '/nobackup/projects/bdlan05/$USER/logs/', 'modelname': 'bert-base-uncased', 'LSAVersion': 'none', 'all_layers': False, 'batch_size': 180, 'num_trials': 0, 'accelerator': 'auto', 'perfect_match': False, 'hpc_exp_number': None, 'padding_length': 128, 'generate_trials': 'test_tube.argparse_hopt.HyperOptArgumentParser.generate_trials', 'optimize_parallel': 'test_tube.argparse_hopt.HyperOptArgumentParser.optimize_parallel', 'optimize_parallel_cpu': 'test_tube.argparse_hopt.HyperOptArgumentParser.optimize_parallel_cpu', 'optimize_parallel_gpu': 'test_tube.argparse_hopt.HyperOptArgumentParser.optimize_parallel_gpu', 'optimize_trials_parallel_gpu': 'test_tube.argparse_hopt.HyperOptArgumentParser.optimize_trials_parallel_gpu'}\n",
      "none_bert-base-uncased\n"
     ]
    },
    {
     "name": "stderr",
     "output_type": "stream",
     "text": [
      " 50%|█████     | 58/116 [00:17<00:23,  2.50it/s]"
     ]
    },
    {
     "name": "stdout",
     "output_type": "stream",
     "text": [
      "{'dir': '/data', 'log_path': '/nobackup/projects/bdlan05/$USER/logs/', 'modelname': 'albert-base-v2', 'LSAVersion': 'recursive fn', 'all_layers': False, 'batch_size': 180, 'num_trials': -1, 'accelerator': 'auto', 'perfect_match': True, 'hpc_exp_number': None, 'padding_length': 128}\n",
      "recursive fn_albert-base-v2\n"
     ]
    },
    {
     "name": "stderr",
     "output_type": "stream",
     "text": [
      " 51%|█████     | 59/116 [00:18<00:22,  2.54it/s]"
     ]
    },
    {
     "name": "stdout",
     "output_type": "stream",
     "text": [
      "{'dir': '/data', 'log_path': '/nobackup/projects/bdlan05/$USER/logs/', 'modelname': 'distilbert-base-uncased', 'LSAVersion': 'none', 'all_layers': False, 'batch_size': 180, 'num_trials': -1, 'accelerator': 'auto', 'perfect_match': True, 'hpc_exp_number': None, 'padding_length': 128}\n",
      "none_distilbert-base-uncased\n"
     ]
    },
    {
     "name": "stderr",
     "output_type": "stream",
     "text": [
      " 52%|█████▏    | 60/116 [00:18<00:23,  2.39it/s]"
     ]
    },
    {
     "name": "stdout",
     "output_type": "stream",
     "text": [
      "{'dir': '/data', 'log_path': '/nobackup/projects/bdlan05/$USER/logs/', 'modelname': 'albert-base-v2', 'LSAVersion': 'recursive fn', 'all_layers': False, 'batch_size': 180, 'num_trials': -1, 'accelerator': 'auto', 'perfect_match': True, 'hpc_exp_number': None, 'padding_length': 384}\n",
      "recursive fn_albert-base-v2\n"
     ]
    },
    {
     "name": "stderr",
     "output_type": "stream",
     "text": [
      " 53%|█████▎    | 61/116 [00:19<00:23,  2.34it/s]"
     ]
    },
    {
     "name": "stdout",
     "output_type": "stream",
     "text": [
      "{'dir': '/data', 'log_path': '/nobackup/projects/bdlan05/$USER/logs/', 'modelname': 'albert-base-v2', 'LSAVersion': 'recursive fn', 'all_layers': False, 'batch_size': 180, 'num_trials': -1, 'accelerator': 'auto', 'perfect_match': False, 'hpc_exp_number': None, 'padding_length': 128}\n",
      "recursive fn_albert-base-v2\n"
     ]
    },
    {
     "name": "stderr",
     "output_type": "stream",
     "text": [
      " 53%|█████▎    | 62/116 [00:19<00:22,  2.36it/s]"
     ]
    },
    {
     "name": "stdout",
     "output_type": "stream",
     "text": [
      "{'dir': '/datasets3', 'log_path': '/nobackup/projects/bdlan05/$USER/logs/', 'modelname': 'albert-base-v2', 'LSAVersion': 'stock', 'all_layers': False, 'batch_size': 180, 'num_trials': -1, 'accelerator': 'auto', 'perfect_match': False, 'hpc_exp_number': None, 'padding_length': 128}\n",
      "stock_albert-base-v2\n"
     ]
    },
    {
     "name": "stderr",
     "output_type": "stream",
     "text": [
      " 54%|█████▍    | 63/116 [00:19<00:21,  2.48it/s]"
     ]
    },
    {
     "name": "stdout",
     "output_type": "stream",
     "text": [
      "{'dir': '/datasets2', 'log_path': '/nobackup/projects/bdlan05/$USER/logs/', 'modelname': 'facebook/bart-base', 'LSAVersion': 'stock', 'all_layers': False, 'batch_size': 180, 'num_trials': -1, 'accelerator': 'auto', 'perfect_match': False, 'hpc_exp_number': None, 'padding_length': 384}\n",
      "stock_facebook/bart-base\n"
     ]
    },
    {
     "name": "stderr",
     "output_type": "stream",
     "text": [
      " 55%|█████▌    | 64/116 [00:20<00:21,  2.44it/s]"
     ]
    },
    {
     "name": "stdout",
     "output_type": "stream",
     "text": [
      "{'dir': '/datasets2', 'log_path': '/nobackup/projects/bdlan05/$USER/logs/', 'modelname': 'roberta-base', 'LSAVersion': 'stock', 'all_layers': False, 'batch_size': 180, 'num_trials': -1, 'accelerator': 'auto', 'perfect_match': True, 'hpc_exp_number': None, 'padding_length': 128}\n",
      "stock_roberta-base\n"
     ]
    },
    {
     "name": "stderr",
     "output_type": "stream",
     "text": [
      " 56%|█████▌    | 65/116 [00:20<00:20,  2.50it/s]"
     ]
    },
    {
     "name": "stdout",
     "output_type": "stream",
     "text": [
      "{'dir': '/data', 'log_path': '/nobackup/projects/bdlan05/$USER/logs/', 'modelname': 'xlm-roberta-base', 'LSAVersion': 'none', 'all_layers': False, 'batch_size': 180, 'num_trials': -1, 'accelerator': 'auto', 'perfect_match': True, 'hpc_exp_number': None, 'padding_length': 384}\n",
      "none_xlm-roberta-base\n"
     ]
    },
    {
     "name": "stderr",
     "output_type": "stream",
     "text": [
      " 57%|█████▋    | 66/116 [00:21<00:19,  2.59it/s]"
     ]
    },
    {
     "name": "stdout",
     "output_type": "stream",
     "text": [
      "{'dir': '/data', 'log_path': '/nobackup/projects/bdlan05/$USER/logs/', 'modelname': 'distilbert-base-uncased', 'LSAVersion': 'stock', 'all_layers': False, 'batch_size': 180, 'num_trials': -1, 'accelerator': 'auto', 'perfect_match': True, 'hpc_exp_number': None, 'padding_length': 384}\n",
      "stock_distilbert-base-uncased\n"
     ]
    },
    {
     "name": "stderr",
     "output_type": "stream",
     "text": [
      " 58%|█████▊    | 67/116 [00:21<00:19,  2.45it/s]"
     ]
    },
    {
     "name": "stdout",
     "output_type": "stream",
     "text": [
      "{'dir': '/data', 'log_path': '/nobackup/projects/bdlan05/$USER/logs/', 'modelname': 'roberta-base', 'LSAVersion': 'none', 'all_layers': False, 'batch_size': 180, 'num_trials': -1, 'accelerator': 'auto', 'perfect_match': False, 'hpc_exp_number': None, 'padding_length': 384}\n",
      "none_roberta-base\n"
     ]
    },
    {
     "name": "stderr",
     "output_type": "stream",
     "text": [
      " 59%|█████▊    | 68/116 [00:22<00:19,  2.46it/s]"
     ]
    },
    {
     "name": "stdout",
     "output_type": "stream",
     "text": [
      "{'dir': '/datasets2', 'log_path': '/nobackup/projects/bdlan05/$USER/logs/', 'modelname': 'distilbert-base-uncased', 'LSAVersion': 'stock', 'all_layers': False, 'batch_size': 180, 'num_trials': -1, 'accelerator': 'auto', 'perfect_match': False, 'hpc_exp_number': None, 'padding_length': 128}\n",
      "stock_distilbert-base-uncased\n"
     ]
    },
    {
     "name": "stderr",
     "output_type": "stream",
     "text": [
      " 60%|██████    | 70/116 [00:22<00:14,  3.13it/s]"
     ]
    },
    {
     "name": "stdout",
     "output_type": "stream",
     "text": [
      "{'dir': '/data', 'log_path': '/nobackup/projects/bdlan05/$USER/logs/', 'modelname': 'roberta-base', 'LSAVersion': 'recursive fn', 'all_layers': False, 'batch_size': 180, 'num_trials': -1, 'accelerator': 'auto', 'perfect_match': False, 'hpc_exp_number': None, 'padding_length': 384}\n",
      "recursive fn_roberta-base\n"
     ]
    },
    {
     "name": "stderr",
     "output_type": "stream",
     "text": [
      " 61%|██████    | 71/116 [00:22<00:15,  2.94it/s]"
     ]
    },
    {
     "name": "stdout",
     "output_type": "stream",
     "text": [
      "{'dir': '/data', 'log_path': '/nobackup/projects/bdlan05/$USER/logs/', 'modelname': 'distilbert-base-uncased', 'LSAVersion': 'none', 'all_layers': False, 'batch_size': 180, 'num_trials': -1, 'accelerator': 'auto', 'perfect_match': True, 'hpc_exp_number': None, 'padding_length': 384}\n",
      "none_distilbert-base-uncased\n"
     ]
    },
    {
     "name": "stderr",
     "output_type": "stream",
     "text": [
      " 62%|██████▏   | 72/116 [00:23<00:16,  2.72it/s]"
     ]
    },
    {
     "name": "stdout",
     "output_type": "stream",
     "text": [
      "{'dir': '/data', 'log_path': '/nobackup/projects/bdlan05/$USER/logs/', 'modelname': 'xlm-roberta-base', 'LSAVersion': 'recursive fn', 'all_layers': False, 'batch_size': 180, 'num_trials': -1, 'accelerator': 'auto', 'perfect_match': False, 'hpc_exp_number': None, 'padding_length': 128}\n",
      "recursive fn_xlm-roberta-base\n"
     ]
    },
    {
     "name": "stderr",
     "output_type": "stream",
     "text": [
      " 63%|██████▎   | 73/116 [00:23<00:15,  2.77it/s]"
     ]
    },
    {
     "name": "stdout",
     "output_type": "stream",
     "text": [
      "{'dir': '/datasets3', 'log_path': '/nobackup/projects/bdlan05/$USER/logs/', 'modelname': 'bert-base-uncased', 'LSAVersion': 'stock', 'all_layers': False, 'batch_size': 180, 'num_trials': -1, 'accelerator': 'auto', 'perfect_match': False, 'hpc_exp_number': None, 'padding_length': 128}\n",
      "stock_bert-base-uncased\n"
     ]
    },
    {
     "name": "stderr",
     "output_type": "stream",
     "text": [
      " 66%|██████▌   | 76/116 [00:24<00:10,  3.97it/s]"
     ]
    },
    {
     "name": "stdout",
     "output_type": "stream",
     "text": [
      "{'dir': '/datasets2', 'log_path': '/nobackup/projects/bdlan05/$USER/logs/', 'modelname': 'xlm-roberta-base', 'LSAVersion': 'recursive fn', 'all_layers': False, 'batch_size': 180, 'num_trials': -1, 'accelerator': 'auto', 'perfect_match': False, 'hpc_exp_number': None, 'padding_length': 128}\n",
      "recursive fn_xlm-roberta-base\n"
     ]
    },
    {
     "name": "stderr",
     "output_type": "stream",
     "text": [
      " 66%|██████▋   | 77/116 [00:24<00:11,  3.44it/s]"
     ]
    },
    {
     "name": "stdout",
     "output_type": "stream",
     "text": [
      "{'dir': '/data', 'log_path': '/nobackup/projects/bdlan05/$USER/logs/', 'modelname': 'albert-base-v2', 'LSAVersion': 'stock', 'all_layers': False, 'batch_size': 180, 'num_trials': -1, 'accelerator': 'auto', 'perfect_match': False, 'hpc_exp_number': None, 'padding_length': 128}\n",
      "stock_albert-base-v2\n"
     ]
    },
    {
     "name": "stderr",
     "output_type": "stream",
     "text": [
      " 67%|██████▋   | 78/116 [00:25<00:12,  3.08it/s]"
     ]
    },
    {
     "name": "stdout",
     "output_type": "stream",
     "text": [
      "{'dir': '/data', 'log_path': '/nobackup/projects/bdlan05/$USER/logs/', 'modelname': 'facebook/bart-base', 'LSAVersion': 'recursive fn5', 'all_layers': False, 'batch_size': 180, 'num_trials': -1, 'accelerator': 'auto', 'perfect_match': False, 'hpc_exp_number': None, 'padding_length': 384}\n",
      "recursive fn5_facebook/bart-base\n"
     ]
    },
    {
     "name": "stderr",
     "output_type": "stream",
     "text": [
      " 68%|██████▊   | 79/116 [00:25<00:12,  3.00it/s]"
     ]
    },
    {
     "name": "stdout",
     "output_type": "stream",
     "text": [
      "{'dir': '/data', 'log_path': '/nobackup/projects/bdlan05/$USER/logs/', 'modelname': 'xlm-roberta-base', 'LSAVersion': 'recursive fn2 ', 'all_layers': False, 'batch_size': 180, 'num_trials': -1, 'accelerator': 'auto', 'perfect_match': False, 'hpc_exp_number': None, 'padding_length': 128}\n",
      "recursive fn2 _xlm-roberta-base\n"
     ]
    },
    {
     "name": "stderr",
     "output_type": "stream",
     "text": [
      " 70%|██████▉   | 81/116 [00:25<00:10,  3.28it/s]"
     ]
    },
    {
     "name": "stdout",
     "output_type": "stream",
     "text": [
      "{'dir': '/data', 'trials': 'test_tube.argparse_hopt.HyperOptArgumentParser.opt_trials', 'log_path': '/nobackup/projects/bdlan05/$USER/logs/', 'modelname': 'bert-base-uncased', 'LSAVersion': 'none', 'all_layers': False, 'batch_size': 180, 'num_trials': 0, 'accelerator': 'auto', 'perfect_match': False, 'hpc_exp_number': None, 'padding_length': 128, 'generate_trials': 'test_tube.argparse_hopt.HyperOptArgumentParser.generate_trials', 'optimize_parallel': 'test_tube.argparse_hopt.HyperOptArgumentParser.optimize_parallel', 'optimize_parallel_cpu': 'test_tube.argparse_hopt.HyperOptArgumentParser.optimize_parallel_cpu', 'optimize_parallel_gpu': 'test_tube.argparse_hopt.HyperOptArgumentParser.optimize_parallel_gpu', 'optimize_trials_parallel_gpu': 'test_tube.argparse_hopt.HyperOptArgumentParser.optimize_trials_parallel_gpu'}\n",
      "none_bert-base-uncased\n"
     ]
    },
    {
     "name": "stderr",
     "output_type": "stream",
     "text": [
      " 72%|███████▏  | 83/116 [00:26<00:09,  3.51it/s]"
     ]
    },
    {
     "name": "stdout",
     "output_type": "stream",
     "text": [
      "{'dir': '/data', 'log_path': '/nobackup/projects/bdlan05/$USER/logs/', 'modelname': 'roberta-base', 'LSAVersion': 'stock', 'all_layers': False, 'batch_size': 180, 'num_trials': -1, 'accelerator': 'auto', 'perfect_match': False, 'hpc_exp_number': None, 'padding_length': 128}\n",
      "stock_roberta-base\n"
     ]
    },
    {
     "name": "stderr",
     "output_type": "stream",
     "text": [
      " 75%|███████▌  | 87/116 [00:26<00:05,  5.15it/s]"
     ]
    },
    {
     "name": "stdout",
     "output_type": "stream",
     "text": [
      "{'dir': '/data', 'log_path': '/nobackup/projects/bdlan05/$USER/logs/', 'modelname': 'xlm-roberta-base', 'LSAVersion': 'stock', 'all_layers': False, 'batch_size': 180, 'num_trials': -1, 'accelerator': 'auto', 'perfect_match': True, 'hpc_exp_number': None, 'padding_length': 128}\n",
      "stock_xlm-roberta-base\n"
     ]
    },
    {
     "name": "stderr",
     "output_type": "stream",
     "text": [
      " 76%|███████▌  | 88/116 [00:27<00:06,  4.58it/s]"
     ]
    },
    {
     "name": "stdout",
     "output_type": "stream",
     "text": [
      "{'dir': '/data', 'log_path': '/nobackup/projects/bdlan05/$USER/logs/', 'modelname': 'xlm-roberta-base', 'LSAVersion': 'recursive fn', 'all_layers': False, 'batch_size': 180, 'num_trials': -1, 'accelerator': 'auto', 'perfect_match': False, 'hpc_exp_number': None, 'padding_length': 384}\n",
      "recursive fn_xlm-roberta-base\n"
     ]
    },
    {
     "name": "stderr",
     "output_type": "stream",
     "text": [
      " 77%|███████▋  | 89/116 [00:27<00:08,  3.10it/s]"
     ]
    },
    {
     "name": "stdout",
     "output_type": "stream",
     "text": [
      "{'dir': '/data', 'log_path': '/nobackup/projects/bdlan05/$USER/logs/', 'modelname': 'facebook/bart-base', 'LSAVersion': 'recursive fn', 'all_layers': True, 'batch_size': 180, 'num_trials': -1, 'accelerator': 'auto', 'perfect_match': False, 'hpc_exp_number': None, 'padding_length': 384}\n",
      "recursive fn_facebook/bart-base\n"
     ]
    },
    {
     "name": "stderr",
     "output_type": "stream",
     "text": [
      " 78%|███████▊  | 90/116 [00:28<00:09,  2.69it/s]"
     ]
    },
    {
     "name": "stdout",
     "output_type": "stream",
     "text": [
      "{'dir': '/data', 'trials': 'test_tube.argparse_hopt.HyperOptArgumentParser.opt_trials', 'log_path': '/nobackup/projects/bdlan05/$USER/logs/', 'modelname': 'bert-base-uncased', 'LSAVersion': 'none', 'all_layers': False, 'batch_size': 180, 'num_trials': 0, 'accelerator': 'auto', 'perfect_match': False, 'hpc_exp_number': None, 'padding_length': 128, 'generate_trials': 'test_tube.argparse_hopt.HyperOptArgumentParser.generate_trials', 'optimize_parallel': 'test_tube.argparse_hopt.HyperOptArgumentParser.optimize_parallel', 'optimize_parallel_cpu': 'test_tube.argparse_hopt.HyperOptArgumentParser.optimize_parallel_cpu', 'optimize_parallel_gpu': 'test_tube.argparse_hopt.HyperOptArgumentParser.optimize_parallel_gpu', 'optimize_trials_parallel_gpu': 'test_tube.argparse_hopt.HyperOptArgumentParser.optimize_trials_parallel_gpu'}\n",
      "none_bert-base-uncased\n"
     ]
    },
    {
     "name": "stderr",
     "output_type": "stream",
     "text": [
      " 79%|███████▉  | 92/116 [00:29<00:08,  2.90it/s]"
     ]
    },
    {
     "name": "stdout",
     "output_type": "stream",
     "text": [
      "{'dir': '/data', 'log_path': '/nobackup/projects/bdlan05/$USER/logs/', 'modelname': 'roberta-base', 'LSAVersion': 'stock', 'all_layers': False, 'batch_size': 180, 'num_trials': -1, 'accelerator': 'auto', 'perfect_match': True, 'hpc_exp_number': None, 'padding_length': 384}\n",
      "stock_roberta-base\n"
     ]
    },
    {
     "name": "stderr",
     "output_type": "stream",
     "text": [
      " 80%|████████  | 93/116 [00:34<00:32,  1.41s/it]"
     ]
    },
    {
     "name": "stdout",
     "output_type": "stream",
     "text": [
      "{'dir': '/datasets2', 'log_path': '/nobackup/projects/bdlan05/$USER/logs/', 'modelname': 'roberta-base', 'LSAVersion': 'recursive fn5', 'all_layers': False, 'batch_size': 180, 'num_trials': -1, 'accelerator': 'auto', 'perfect_match': False, 'hpc_exp_number': None, 'padding_length': 128}\n",
      "recursive fn5_roberta-base\n"
     ]
    },
    {
     "name": "stderr",
     "output_type": "stream",
     "text": [
      " 82%|████████▏ | 95/116 [00:34<00:19,  1.05it/s]"
     ]
    },
    {
     "name": "stdout",
     "output_type": "stream",
     "text": [
      "{'dir': '/datasets3', 'log_path': '/nobackup/projects/bdlan05/$USER/logs/', 'modelname': 'bert-base-uncased', 'LSAVersion': 'recursive fn', 'all_layers': False, 'batch_size': 180, 'num_trials': -1, 'accelerator': 'auto', 'perfect_match': False, 'hpc_exp_number': None, 'padding_length': 128}\n",
      "recursive fn_bert-base-uncased\n"
     ]
    },
    {
     "name": "stderr",
     "output_type": "stream",
     "text": [
      " 83%|████████▎ | 96/116 [00:35<00:17,  1.17it/s]"
     ]
    },
    {
     "name": "stdout",
     "output_type": "stream",
     "text": [
      "{'dir': '/data', 'log_path': '/nobackup/projects/bdlan05/$USER/logs/', 'modelname': 'facebook/bart-base', 'LSAVersion': 'recursive fn5', 'all_layers': False, 'batch_size': 180, 'num_trials': -1, 'accelerator': 'auto', 'perfect_match': True, 'hpc_exp_number': None, 'padding_length': 384}\n",
      "recursive fn5_facebook/bart-base\n"
     ]
    },
    {
     "name": "stderr",
     "output_type": "stream",
     "text": [
      " 84%|████████▎ | 97/116 [00:35<00:14,  1.35it/s]"
     ]
    },
    {
     "name": "stdout",
     "output_type": "stream",
     "text": [
      "{'dir': '/data', 'log_path': '/nobackup/projects/bdlan05/$USER/logs/', 'modelname': 'roberta-base', 'LSAVersion': 'stock', 'all_layers': False, 'batch_size': 180, 'num_trials': -1, 'accelerator': 'auto', 'perfect_match': False, 'hpc_exp_number': None, 'padding_length': 384}\n",
      "stock_roberta-base\n"
     ]
    },
    {
     "name": "stderr",
     "output_type": "stream",
     "text": [
      " 84%|████████▍ | 98/116 [00:36<00:11,  1.54it/s]"
     ]
    },
    {
     "name": "stdout",
     "output_type": "stream",
     "text": [
      "{'dir': '/data', 'log_path': '/nobackup/projects/bdlan05/$USER/logs/', 'modelname': 'roberta-base', 'LSAVersion': 'my function', 'all_layers': False, 'batch_size': 180, 'num_trials': -1, 'accelerator': 'auto', 'perfect_match': True, 'hpc_exp_number': None, 'padding_length': 384}\n",
      "my function_roberta-base\n"
     ]
    },
    {
     "name": "stderr",
     "output_type": "stream",
     "text": [
      " 85%|████████▌ | 99/116 [00:36<00:09,  1.72it/s]"
     ]
    },
    {
     "name": "stdout",
     "output_type": "stream",
     "text": [
      "{'dir': '/data', 'log_path': '/nobackup/projects/bdlan05/$USER/logs/', 'modelname': 'albert-base-v2', 'LSAVersion': 'recursive fn2 ', 'all_layers': True, 'batch_size': 180, 'num_trials': -1, 'accelerator': 'auto', 'perfect_match': False, 'hpc_exp_number': None, 'padding_length': 384}\n",
      "recursive fn2 _albert-base-v2\n"
     ]
    },
    {
     "name": "stderr",
     "output_type": "stream",
     "text": [
      " 86%|████████▌ | 100/116 [00:36<00:08,  1.94it/s]"
     ]
    },
    {
     "name": "stdout",
     "output_type": "stream",
     "text": [
      "{'dir': '/data', 'log_path': '/nobackup/projects/bdlan05/$USER/logs/', 'modelname': 'roberta-base', 'LSAVersion': 'my function', 'all_layers': True, 'batch_size': 180, 'num_trials': -1, 'accelerator': 'auto', 'perfect_match': True, 'hpc_exp_number': None, 'padding_length': 128}\n",
      "my function_roberta-base\n"
     ]
    },
    {
     "name": "stderr",
     "output_type": "stream",
     "text": [
      " 87%|████████▋ | 101/116 [00:37<00:08,  1.71it/s]"
     ]
    },
    {
     "name": "stdout",
     "output_type": "stream",
     "text": [
      "{'dir': '/data', 'log_path': '/nobackup/projects/bdlan05/$USER/logs/', 'modelname': 'bert-base-uncased', 'LSAVersion': 'recursive fn5', 'all_layers': True, 'batch_size': 180, 'num_trials': -1, 'accelerator': 'auto', 'perfect_match': True, 'hpc_exp_number': None, 'padding_length': 384}\n",
      "recursive fn5_bert-base-uncased\n"
     ]
    },
    {
     "name": "stderr",
     "output_type": "stream",
     "text": [
      " 88%|████████▊ | 102/116 [00:37<00:07,  1.93it/s]"
     ]
    },
    {
     "name": "stdout",
     "output_type": "stream",
     "text": [
      "{'dir': '/data', 'log_path': '/nobackup/projects/bdlan05/$USER/logs/', 'modelname': 'bert-base-uncased', 'LSAVersion': 'my function', 'all_layers': True, 'batch_size': 180, 'num_trials': -1, 'accelerator': 'auto', 'perfect_match': True, 'hpc_exp_number': None, 'padding_length': 384}\n",
      "my function_bert-base-uncased\n"
     ]
    },
    {
     "name": "stderr",
     "output_type": "stream",
     "text": [
      " 89%|████████▉ | 103/116 [00:38<00:06,  2.15it/s]"
     ]
    },
    {
     "name": "stdout",
     "output_type": "stream",
     "text": [
      "{'dir': '/data', 'log_path': '/nobackup/projects/bdlan05/$USER/logs/', 'modelname': 'bert-base-uncased', 'LSAVersion': 'my function', 'all_layers': True, 'batch_size': 180, 'num_trials': -1, 'accelerator': 'auto', 'perfect_match': True, 'hpc_exp_number': None, 'padding_length': 384}\n",
      "my function_bert-base-uncased\n"
     ]
    },
    {
     "name": "stderr",
     "output_type": "stream",
     "text": [
      " 91%|█████████ | 105/116 [00:38<00:03,  2.88it/s]"
     ]
    },
    {
     "name": "stdout",
     "output_type": "stream",
     "text": [
      "{'dir': '/data', 'log_path': '/nobackup/projects/bdlan05/$USER/logs/', 'modelname': 'distilbert-base-uncased', 'LSAVersion': 'my function', 'all_layers': True, 'batch_size': 180, 'num_trials': -1, 'accelerator': 'auto', 'perfect_match': False, 'hpc_exp_number': None, 'padding_length': 128}\n",
      "my function_distilbert-base-uncased\n"
     ]
    },
    {
     "name": "stderr",
     "output_type": "stream",
     "text": [
      " 91%|█████████▏| 106/116 [00:39<00:04,  2.45it/s]"
     ]
    },
    {
     "name": "stdout",
     "output_type": "stream",
     "text": [
      "{'dir': '/data', 'log_path': '/nobackup/projects/bdlan05/$USER/logs/', 'modelname': 'facebook/bart-base', 'LSAVersion': 'recursive fn', 'all_layers': True, 'batch_size': 180, 'num_trials': -1, 'accelerator': 'auto', 'perfect_match': True, 'hpc_exp_number': None, 'padding_length': 128}\n",
      "recursive fn_facebook/bart-base\n"
     ]
    },
    {
     "name": "stderr",
     "output_type": "stream",
     "text": [
      " 92%|█████████▏| 107/116 [00:39<00:03,  2.54it/s]"
     ]
    },
    {
     "name": "stdout",
     "output_type": "stream",
     "text": [
      "{'dir': '/data', 'log_path': '/nobackup/projects/bdlan05/$USER/logs/', 'modelname': 'albert-base-v2', 'LSAVersion': 'recursive fn5', 'all_layers': False, 'batch_size': 180, 'num_trials': -1, 'accelerator': 'auto', 'perfect_match': True, 'hpc_exp_number': None, 'padding_length': 128}\n",
      "recursive fn5_albert-base-v2\n"
     ]
    },
    {
     "name": "stderr",
     "output_type": "stream",
     "text": [
      " 94%|█████████▍| 109/116 [00:40<00:02,  2.97it/s]"
     ]
    },
    {
     "name": "stdout",
     "output_type": "stream",
     "text": [
      "{'dir': '/data', 'log_path': '/nobackup/projects/bdlan05/$USER/logs/', 'modelname': 'distilbert-base-uncased', 'LSAVersion': 'recursive fn5', 'all_layers': False, 'batch_size': 180, 'num_trials': -1, 'accelerator': 'auto', 'perfect_match': True, 'hpc_exp_number': None, 'padding_length': 128}\n",
      "recursive fn5_distilbert-base-uncased\n"
     ]
    },
    {
     "name": "stderr",
     "output_type": "stream",
     "text": [
      " 95%|█████████▍| 110/116 [00:40<00:02,  2.72it/s]"
     ]
    },
    {
     "name": "stdout",
     "output_type": "stream",
     "text": [
      "{'dir': '/data', 'log_path': '/nobackup/projects/bdlan05/$USER/logs/', 'modelname': 'distilbert-base-uncased', 'LSAVersion': 'recursive fn', 'all_layers': False, 'batch_size': 180, 'num_trials': -1, 'accelerator': 'auto', 'perfect_match': False, 'hpc_exp_number': None, 'padding_length': 384}\n",
      "recursive fn_distilbert-base-uncased\n"
     ]
    },
    {
     "name": "stderr",
     "output_type": "stream",
     "text": [
      " 96%|█████████▌| 111/116 [00:41<00:01,  2.62it/s]"
     ]
    },
    {
     "name": "stdout",
     "output_type": "stream",
     "text": [
      "{'dir': '/data', 'log_path': '/nobackup/projects/bdlan05/$USER/logs/', 'modelname': 'facebook/bart-base', 'LSAVersion': 'recursive fn', 'all_layers': False, 'batch_size': 180, 'num_trials': -1, 'accelerator': 'auto', 'perfect_match': False, 'hpc_exp_number': None, 'padding_length': 384}\n",
      "recursive fn_facebook/bart-base\n"
     ]
    },
    {
     "name": "stderr",
     "output_type": "stream",
     "text": [
      " 97%|█████████▋| 112/116 [00:41<00:01,  2.46it/s]"
     ]
    },
    {
     "name": "stdout",
     "output_type": "stream",
     "text": [
      "{'dir': '/data', 'log_path': '/nobackup/projects/bdlan05/$USER/logs/', 'modelname': 'roberta-base', 'LSAVersion': 'none', 'all_layers': False, 'batch_size': 180, 'num_trials': -1, 'accelerator': 'auto', 'perfect_match': False, 'hpc_exp_number': None, 'padding_length': 128}\n",
      "none_roberta-base\n"
     ]
    },
    {
     "name": "stderr",
     "output_type": "stream",
     "text": [
      " 97%|█████████▋| 113/116 [00:41<00:01,  2.45it/s]"
     ]
    },
    {
     "name": "stdout",
     "output_type": "stream",
     "text": [
      "{'dir': '/data', 'log_path': '/nobackup/projects/bdlan05/$USER/logs/', 'modelname': 'distilbert-base-uncased', 'LSAVersion': 'recursive fn', 'all_layers': True, 'batch_size': 180, 'num_trials': -1, 'accelerator': 'auto', 'perfect_match': False, 'hpc_exp_number': None, 'padding_length': 384}\n",
      "recursive fn_distilbert-base-uncased\n"
     ]
    },
    {
     "name": "stderr",
     "output_type": "stream",
     "text": [
      " 98%|█████████▊| 114/116 [00:42<00:00,  2.54it/s]"
     ]
    },
    {
     "name": "stdout",
     "output_type": "stream",
     "text": [
      "{'dir': '/data', 'log_path': '/nobackup/projects/bdlan05/$USER/logs/', 'modelname': 'xlm-roberta-base', 'LSAVersion': 'my function', 'all_layers': False, 'batch_size': 180, 'num_trials': -1, 'accelerator': 'auto', 'perfect_match': False, 'hpc_exp_number': None, 'padding_length': 128}\n",
      "my function_xlm-roberta-base\n"
     ]
    },
    {
     "name": "stderr",
     "output_type": "stream",
     "text": [
      "100%|██████████| 116/116 [00:42<00:00,  2.71it/s]"
     ]
    },
    {
     "name": "stdout",
     "output_type": "stream",
     "text": [
      "{'dir': '/data', 'log_path': '/nobackup/projects/bdlan05/$USER/logs/', 'modelname': 'bert-base-uncased', 'LSAVersion': 'recursive fn', 'all_layers': False, 'batch_size': 80, 'num_trials': -1, 'accelerator': 'gpu', 'perfect_match': False, 'hpc_exp_number': None}\n"
     ]
    },
    {
     "name": "stderr",
     "output_type": "stream",
     "text": [
      "\n"
     ]
    }
   ],
   "source": [
    "import wandb\n",
    "\n",
    "#login to wandb\n",
    "\n",
    "#sweep= \n",
    "\n",
    "#runs=sweep.runs.data \n",
    "\n",
    "import pandas as pd\n",
    "import wandb\n",
    "from tqdm import tqdm\n",
    "\n",
    "api = wandb.Api()\n",
    "entity, project = \"st7ma784\", \"Bertscore\"\n",
    "runs = api.runs(entity + \"/\" + project)\n",
    "metric_to_Grab=[\"F1\"]\n",
    "Group_by=[#\"modelname\",\n",
    "\"modelname\",\n",
    "\"LSAVersion\",\n",
    "#\"perfect_match\",\n",
    "#\"padding_length\"\n",
    "]\n",
    "data={}\n",
    "options={k:set() for k in Group_by}\n",
    "print(\"Grabbing data:\")\n",
    "for run in tqdm(runs):\n",
    "    if run.state == \"finished\":\n",
    "        hist=run.history()\n",
    "        # print(hist)\n",
    "        config=run.config\n",
    "        print(config)\n",
    "        if config[\"batch_size\"]==180:\n",
    "            dictkeys=list(set(config.keys()).intersection(set(Group_by)))\n",
    "            dictkeys.sort()\n",
    "            for k in dictkeys:\n",
    "                s=options[k]\n",
    "                s.add(config.get(k,\"\"))\n",
    "                options[k]=s\n",
    "            entry_name= \"_\".join([config.get(k,\"\") for k in dictkeys])\n",
    "            print(entry_name)\n",
    "\n",
    "            dictkeys=set(hist.keys()).intersection(set(metric_to_Grab))\n",
    "            for k in dictkeys:\n",
    "                lis=data.get(entry_name,[])\n",
    "                lis.extend(hist[k])\n",
    "                data[entry_name]=lis\n",
    "    \n",
    "    \n",
    "        # for k in dictkeys:\n",
    "        #     summarydict[k].append(hist[k])\n",
    "\n"
   ]
  },
  {
   "cell_type": "code",
   "execution_count": 55,
   "metadata": {},
   "outputs": [
    {
     "data": {
      "text/plain": [
       "{'modelname': {'albert-base-v2',\n",
       "  'bert-base-uncased',\n",
       "  'distilbert-base-uncased',\n",
       "  'facebook/bart-base',\n",
       "  'roberta-base',\n",
       "  'xlm-roberta-base'},\n",
       " 'LSAVersion': {'my function',\n",
       "  'none',\n",
       "  'recursive fn',\n",
       "  'recursive fn2 ',\n",
       "  'recursive fn5',\n",
       "  'stock'}}"
      ]
     },
     "execution_count": 55,
     "metadata": {},
     "output_type": "execute_result"
    }
   ],
   "source": [
    "options"
   ]
  },
  {
   "cell_type": "code",
   "execution_count": 61,
   "metadata": {},
   "outputs": [
    {
     "name": "stderr",
     "output_type": "stream",
     "text": [
      "UsageError: Line magic function `%matplotlib_inline` not found.\n"
     ]
    }
   ],
   "source": [
    "import seaborn as sns\n",
    "# %matplotlib_inline\n",
    "import matplotlib.pyplot as plt\n",
    "\n",
    "for key in options:\n",
    "    for entry in options[key]:\n",
    "        #filter data by data.key() includes entry\n",
    "        newdict={k:v for k,v in data.items() if entry in k.split(\"_\")}\n",
    "        plt=sns.histplot(data=newdict, kde = True,)\n"
   ]
  },
  {
   "cell_type": "markdown",
   "metadata": {},
   "source": []
  }
 ],
 "metadata": {
  "kernelspec": {
   "display_name": "open-ce",
   "language": "python",
   "name": "python3"
  },
  "language_info": {
   "codemirror_mode": {
    "name": "ipython",
    "version": 3
   },
   "file_extension": ".py",
   "mimetype": "text/x-python",
   "name": "python",
   "nbconvert_exporter": "python",
   "pygments_lexer": "ipython3",
   "version": "3.9.16"
  }
 },
 "nbformat": 4,
 "nbformat_minor": 2
}
